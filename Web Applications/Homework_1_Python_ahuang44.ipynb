{
  "nbformat": 4,
  "nbformat_minor": 0,
  "metadata": {
    "colab": {
      "name": "Copy of Homework_1_Python.ipynb",
      "provenance": [],
      "collapsed_sections": []
    },
    "kernelspec": {
      "display_name": "Python 3",
      "language": "python",
      "name": "python3"
    },
    "language_info": {
      "codemirror_mode": {
        "name": "ipython",
        "version": 3
      },
      "file_extension": ".py",
      "mimetype": "text/x-python",
      "name": "python",
      "nbconvert_exporter": "python",
      "pygments_lexer": "ipython3",
      "version": "3.7.3"
    }
  },
  "cells": [
    {
      "cell_type": "markdown",
      "metadata": {
        "id": "gInFWB3pRs2d",
        "colab_type": "text"
      },
      "source": [
        "Before you turn this problem in, make sure everything runs as expected. First, **restart the kernel** (in the menubar, select Kernel$\\rightarrow$Restart) and then **run all cells** (in the menubar, select Cell$\\rightarrow$Run All).\n",
        "\n",
        "Make sure you fill in any place that says `YOUR CODE HERE` or \"YOUR ANSWER HERE\", as well as your name and collaborators below:"
      ]
    },
    {
      "cell_type": "markdown",
      "metadata": {
        "id": "jQbXp1FrRs2p",
        "colab_type": "text"
      },
      "source": [
        "---"
      ]
    },
    {
      "cell_type": "markdown",
      "metadata": {
        "deletable": false,
        "editable": false,
        "nbgrader": {
          "checksum": "9093b0dc54bdb35b14aa744acf04c0f5",
          "grade": false,
          "grade_id": "cell-e7f14d95f09b8a0",
          "locked": true,
          "schema_version": 1,
          "solution": false
        },
        "id": "v5icehXCRs2s",
        "colab_type": "text"
      },
      "source": [
        "# Homework 1 - Python\n",
        "### Luca de Alfaro, CSE 183"
      ]
    },
    {
      "cell_type": "markdown",
      "metadata": {
        "deletable": false,
        "editable": false,
        "nbgrader": {
          "checksum": "f56c2c5b1c98d085af6417f9c844a011",
          "grade": false,
          "grade_id": "cell-c3e92b138838b5ee",
          "locked": true,
          "schema_version": 1,
          "solution": false
        },
        "id": "ObUJN12LRs2t",
        "colab_type": "text"
      },
      "source": [
        "In this homework, you have to fill in all the places that say `### YOUR CODE HERE`.  Above each code section where you have to insert your code, I wrote how many lines of code used my solution.  This is just an indication; your solution can be shorter or longer, and it is fine provided it works. \n",
        "I note how many lines it took me to solve the problem just to give you some indication of the complexity of the problem. \n",
        "\n",
        "There are three groups questions in this homework: \n",
        "\n",
        "* Subclassing\n",
        "* Fibonacci\n",
        "* Decorators\n",
        "\n",
        "Once you are done, you need to download the notebook **in .ipynb format** and upload it [to this form](https://docs.google.com/forms/d/e/1FAIpQLSfB77Zt03Isd7FFt2No_hfN9z34pdusceBChJbHDuizCkOhug/viewform?usp=sf_link)."
      ]
    },
    {
      "cell_type": "markdown",
      "metadata": {
        "deletable": false,
        "editable": false,
        "nbgrader": {
          "checksum": "e2ccdea65c8ac4a02ef915fac2e175c6",
          "grade": false,
          "grade_id": "cell-c3e67c8838f4769a",
          "locked": true,
          "schema_version": 1,
          "solution": false
        },
        "id": "3RWJeeAgRs2v",
        "colab_type": "text"
      },
      "source": [
        "## Question: Subclassing. Implementing a bounded cache.\n",
        "\n",
        "Here is a class implementing a cache.  The cache has two methods:\n",
        "\n",
        "*   `set`: sets an element.  \n",
        "*   `get`: gets an element. \n",
        "\n",
        "As it is, this cache is just a wrapper over a dictinary, but we will ask you to subclass it to give it more functionality in the following.\n",
        "\n"
      ]
    },
    {
      "cell_type": "code",
      "metadata": {
        "deletable": false,
        "editable": false,
        "nbgrader": {
          "checksum": "64de04664623a018f87d6dfc49265fbe",
          "grade": false,
          "grade_id": "cell-251af649c3aacd8f",
          "locked": true,
          "schema_version": 1,
          "solution": false
        },
        "id": "1cENgxfWRs2x",
        "colab_type": "code",
        "colab": {}
      },
      "source": [
        "class Cache(object):\n",
        "\n",
        "    def __init__(self):\n",
        "        self.d = {}\n",
        "\n",
        "    def set(self, k, v):\n",
        "        \"\"\"Sets the key k to value v in the cache.\"\"\"\n",
        "        self.d[k] = v\n",
        "\n",
        "    def get(self, k):\n",
        "        \"\"\"Gets the value of key k from the cache, or None if the\n",
        "        key is not present.\"\"\"\n",
        "        return self.d.get(k)\n",
        "\n",
        "    def remove(self, k):\n",
        "        \"\"\"Removes key k from the cache.\"\"\"\n",
        "        if k in self.d:\n",
        "            del self.d[k]\n",
        "\n",
        "    def len(self):\n",
        "        return len(self.d)\n"
      ],
      "execution_count": 0,
      "outputs": []
    },
    {
      "cell_type": "markdown",
      "metadata": {
        "deletable": false,
        "editable": false,
        "nbgrader": {
          "checksum": "a604186b118902c9c1e56180a04c60ad",
          "grade": false,
          "grade_id": "cell-33d96d07101060",
          "locked": true,
          "schema_version": 1,
          "solution": false
        },
        "id": "0YiJPhEiRs28",
        "colab_type": "text"
      },
      "source": [
        "As a partial step, extend the Cache class to an OrderedCache one, where you can ask for the keys in the order in which they have been accessed, where an access is either a get or a set.  Simply add to the class a key list that stores this order, for instance, from oldest to newest key."
      ]
    },
    {
      "cell_type": "code",
      "metadata": {
        "deletable": false,
        "nbgrader": {
          "checksum": "bab61e650c117a60b22c384f4a4bcd9e",
          "grade": false,
          "grade_id": "cell-ffaa22ef8172e5a2",
          "locked": false,
          "schema_version": 1,
          "solution": true
        },
        "id": "NbcrL6XNRs29",
        "colab_type": "code",
        "colab": {}
      },
      "source": [
        "### OrderedCache\n",
        "\n",
        "class OrderedCache(Cache):\n",
        "\n",
        "    def __init__(self):\n",
        "        super().__init__()\n",
        "        # 1 line\n",
        "        # YOUR CODE HERE\n",
        "        self.orderL=[]\n",
        "\n",
        "    def _accessed(self, k):\n",
        "        \"\"\"This function notes that the key k has been accessed.\n",
        "        NOTE: A key counts as accessed only if it actually is in\n",
        "        the dictionary, not if someone tries to get its value, but\n",
        "        it does not belong to the dictionary!\n",
        "        \"\"\"\n",
        "        # 4 lines\n",
        "        # YOUR CODE HERE\n",
        "        if k in self.d:\n",
        "          if k in self.orderL:\n",
        "            self.orderL.remove(k)\n",
        "          self.orderL.append(k)\n",
        "\n",
        "    def set(self, k, v):\n",
        "        super().set(k, v)\n",
        "        self._accessed(k)\n",
        "\n",
        "    def get(self, k):\n",
        "        self._accessed(k)\n",
        "        return super().get(k)\n",
        "\n",
        "    def remove(self, k):\n",
        "        \"\"\"We remove the key from the list of keys before calling\n",
        "        super().remove\"\"\"\n",
        "        # Remove k from the key list, if present.\n",
        "        # 2 lines\n",
        "        # YOUR CODE HERE\n",
        "        if k in self.d:\n",
        "          self.orderL.remove(k)\n",
        "        super().remove(k)\n",
        "\n",
        "    def len(self, k):\n",
        "        return len(self.d)\n",
        "\n",
        "    @property\n",
        "    def oldest_key(self):\n",
        "        \"\"\"Returns the oldest accessed key, or None if no key has ever been\n",
        "        accessed.\"\"\"\n",
        "        # 1 line\n",
        "        # YOUR CODE HERE\n",
        "        return self.orderL[0] or None\n",
        "\n",
        "    @property\n",
        "    def newest_key(self):\n",
        "        \"\"\"Returns the most newly accessed key, or None if no key has ever\n",
        "        been accessed.\"\"\"\n",
        "        # 1 line\n",
        "        # YOUR CODE HERE\n",
        "        return self.orderL[-1] or None\n"
      ],
      "execution_count": 0,
      "outputs": []
    },
    {
      "cell_type": "code",
      "metadata": {
        "deletable": false,
        "editable": false,
        "nbgrader": {
          "checksum": "4e4c060be2855f0702b0d657aa235c15",
          "grade": true,
          "grade_id": "cell-bda5ada991e75ee8",
          "locked": true,
          "points": 10,
          "schema_version": 1,
          "solution": false
        },
        "id": "rjkE3E5lRs3D",
        "colab_type": "code",
        "colab": {}
      },
      "source": [
        "### Here are some tests (10 points)\n",
        "\n",
        "c = OrderedCache()\n",
        "\n",
        "c.set('a', 2)\n",
        "c.set('b', 3)\n",
        "assert c.oldest_key == 'a'\n",
        "assert c.newest_key == 'b'\n",
        "\n",
        "# If we access 'c', which does not exist, the newest key is still b.\n",
        "assert c.get('c') == None\n",
        "assert c.oldest_key == 'a'\n",
        "assert c.newest_key == 'b'\n",
        "\n",
        "# This works also for keys that are not strings...\n",
        "c.set(5, 6)\n",
        "assert c.newest_key == 5\n",
        "\n"
      ],
      "execution_count": 0,
      "outputs": []
    },
    {
      "cell_type": "code",
      "metadata": {
        "deletable": false,
        "editable": false,
        "nbgrader": {
          "checksum": "fccc1b389e6540615f1716b1227e475a",
          "grade": true,
          "grade_id": "cell-dd79ba9c07301d4c",
          "locked": true,
          "points": 10,
          "schema_version": 1,
          "solution": false
        },
        "id": "gNcp8YrTRs3J",
        "colab_type": "code",
        "colab": {}
      },
      "source": [
        "### Some more tests (10 points)\n",
        "\n",
        "# If we now access 'a', then it becomes the newest key.\n",
        "assert c.get('a') == 2\n",
        "assert c.oldest_key == 'b'\n",
        "assert c.newest_key == 'a'\n",
        "\n"
      ],
      "execution_count": 0,
      "outputs": []
    },
    {
      "cell_type": "markdown",
      "metadata": {
        "deletable": false,
        "editable": false,
        "nbgrader": {
          "checksum": "953ada6832b5371f10d726236d0025bc",
          "grade": false,
          "grade_id": "cell-b83c8e9bc7b74895",
          "locked": true,
          "schema_version": 1,
          "solution": false
        },
        "id": "jj8kuoATRs3N",
        "colab_type": "text"
      },
      "source": [
        "Now we want to extend OrderedCache to BoundedCache.  A BoundedCache is a cache that contains at most a given number of elements.  If you try to add one more key to it, the oldest key is removed from the cache. "
      ]
    },
    {
      "cell_type": "code",
      "metadata": {
        "deletable": false,
        "nbgrader": {
          "checksum": "5a7d7773274fc8edb702f164ef02b5fc",
          "grade": false,
          "grade_id": "cell-35defd7ac32cfb21",
          "locked": false,
          "schema_version": 1,
          "solution": true
        },
        "colab_type": "code",
        "id": "C0Q3YLagzZgn",
        "colab": {}
      },
      "source": [
        "### BoundedCache\n",
        "\n",
        "class BoundedCache(OrderedCache):\n",
        "\n",
        "    def __init__(self, size_limit=4):\n",
        "        \"\"\"Creates a bounded cache with a given size limit.\n",
        "        If more than size_limit elements are added, the oldest-accessed\n",
        "        elements are deleted from the cache.\"\"\"\n",
        "        super().__init__()\n",
        "        self.size_limit = size_limit\n",
        "\n",
        "    def set(self, k, v):\n",
        "        \"\"\"Sets key k to map to element v.\n",
        "        If k is already in the cache, the mapping should be simply updated.\n",
        "        If k is not in the cache, and the cache already\n",
        "        has reached maximum size, deletes the oldest accessed mapping\n",
        "        before adding the k:v one.\"\"\"\n",
        "        # 3 lines\n",
        "        # YOUR CODE HERE\n",
        "        if k in self.d:\n",
        "          super().set(k,v)\n",
        "        else:\n",
        "          if super().len(k) < self.size_limit:\n",
        "            super().set(k,v)\n",
        "          else:\n",
        "            super().remove(super().oldest_key)\n",
        "            super().set(k,v)"
      ],
      "execution_count": 0,
      "outputs": []
    },
    {
      "cell_type": "code",
      "metadata": {
        "deletable": false,
        "editable": false,
        "nbgrader": {
          "checksum": "00a8daa494896006acbae50d00481514",
          "grade": true,
          "grade_id": "cell-8673c5e89396becc",
          "locked": true,
          "points": 10,
          "schema_version": 1,
          "solution": false
        },
        "id": "xlDk3MtQRs3U",
        "colab_type": "code",
        "colab": {}
      },
      "source": [
        "### Some tests for bounded cache (10 points)\n",
        "\n",
        "c = BoundedCache(2)\n",
        "c.set('a', 1)\n",
        "c.set('b', 2)\n",
        "c.set('c', 3)\n",
        "assert c.get('a') == None\n",
        "assert c.get('b') == 2\n",
        "\n",
        "c = BoundedCache(3)\n",
        "c.set('a', 1)\n",
        "c.set('b', 2)\n",
        "c.set('c', 3)\n",
        "c.get('a')\n",
        "c.set('d', 4)\n",
        "assert c.get('a') == 1\n",
        "assert c.get('b') == None\n",
        "\n",
        "c = BoundedCache(3)\n",
        "c.set(1, 1)\n",
        "c.set(2, 2)\n",
        "c.set(3, 3)\n",
        "c.get(1)\n",
        "c.set(4, 4)\n",
        "c.set(5, 5)\n",
        "assert c.get(4) == 4\n",
        "assert c.get(3) == None\n",
        "assert c.get(1) == 1\n",
        "assert c.get(2) == None\n",
        "\n"
      ],
      "execution_count": 0,
      "outputs": []
    },
    {
      "cell_type": "markdown",
      "metadata": {
        "deletable": false,
        "editable": false,
        "nbgrader": {
          "checksum": "8b914337ef21326764ef2f5346a60f67",
          "grade": false,
          "grade_id": "cell-d1bc7600d89b69a",
          "locked": true,
          "schema_version": 1,
          "solution": false
        },
        "id": "yt0kHan_Rs3Z",
        "colab_type": "text"
      },
      "source": [
        "## Question: A Better Fibonacci Function"
      ]
    },
    {
      "cell_type": "markdown",
      "metadata": {
        "deletable": false,
        "editable": false,
        "nbgrader": {
          "checksum": "900c6121d415fe8052239dbf429fe606",
          "grade": false,
          "grade_id": "cell-4f8f43a04d161f5e",
          "locked": true,
          "schema_version": 1,
          "solution": false
        },
        "id": "TPwK3tH3Rs3Z",
        "colab_type": "text"
      },
      "source": [
        "The Fibonacci function we wrote is very inefficient:"
      ]
    },
    {
      "cell_type": "code",
      "metadata": {
        "deletable": false,
        "editable": false,
        "nbgrader": {
          "checksum": "dc829a1af542669db6f1cddf67301d34",
          "grade": false,
          "grade_id": "cell-6c3de297e049d81c",
          "locked": true,
          "schema_version": 1,
          "solution": false
        },
        "id": "-AFXZV1zRs3b",
        "colab_type": "code",
        "colab": {}
      },
      "source": [
        "def fibo(n):\n",
        "    return n if n < 2 else fibo(n - 1) + fibo(n - 2)\n"
      ],
      "execution_count": 0,
      "outputs": []
    },
    {
      "cell_type": "markdown",
      "metadata": {
        "deletable": false,
        "editable": false,
        "nbgrader": {
          "checksum": "af7270a9ba7cad196eb81858d492f0c7",
          "grade": false,
          "grade_id": "cell-ea8eb42c044efd19",
          "locked": true,
          "schema_version": 1,
          "solution": false
        },
        "id": "CNcFR52cRs3f",
        "colab_type": "text"
      },
      "source": [
        "Can you write a more efficient version of it?"
      ]
    },
    {
      "cell_type": "code",
      "metadata": {
        "deletable": false,
        "nbgrader": {
          "checksum": "0b50c80c7e7a8c9f9c1ceb7e1149d7e3",
          "grade": false,
          "grade_id": "cell-a304c455f04c7e65",
          "locked": false,
          "schema_version": 1,
          "solution": true
        },
        "id": "q6d-vI-YRs3g",
        "colab_type": "code",
        "colab": {}
      },
      "source": [
        "### Better Fibonacci\n",
        "### this method uses a list to remember the previous answers and add them using the index -1 and -2 for last and second last thing in the list\n",
        "def efibo(n):\n",
        "    fibList=[0,1]\n",
        "    for x in range(2,n+1):\n",
        "      fibList.append(fibList[-1]+fibList[-2])\n",
        "    return fibList[n]"
      ],
      "execution_count": 0,
      "outputs": []
    },
    {
      "cell_type": "code",
      "metadata": {
        "deletable": false,
        "editable": false,
        "nbgrader": {
          "checksum": "f0e9fa00351a797a688a4719c617c4c7",
          "grade": false,
          "grade_id": "cell-f361817ab132bb87",
          "locked": true,
          "schema_version": 1,
          "solution": false
        },
        "id": "Fxx-wv-zRs3l",
        "colab_type": "code",
        "colab": {
          "base_uri": "https://localhost:8080/",
          "height": 35
        },
        "outputId": "2107261d-8805-4eee-abc8-baf88ad5f324"
      },
      "source": [
        "efibo(20), fibo(20)\n"
      ],
      "execution_count": 26,
      "outputs": [
        {
          "output_type": "execute_result",
          "data": {
            "text/plain": [
              "(6765, 6765)"
            ]
          },
          "metadata": {
            "tags": []
          },
          "execution_count": 26
        }
      ]
    },
    {
      "cell_type": "code",
      "metadata": {
        "deletable": false,
        "editable": false,
        "nbgrader": {
          "checksum": "069328a385f462ad2f1e1a79d1bc240b",
          "grade": true,
          "grade_id": "cell-97f77d7a440f9f2b",
          "locked": true,
          "points": 10,
          "schema_version": 1,
          "solution": false
        },
        "id": "owkVsB1KRs3p",
        "colab_type": "code",
        "colab": {}
      },
      "source": [
        "### Correctness of efibo (10 point)\n",
        "\n",
        "for n in range(20):\n",
        "    assert fibo(n) == efibo(n)\n",
        "\n"
      ],
      "execution_count": 0,
      "outputs": []
    },
    {
      "cell_type": "code",
      "metadata": {
        "deletable": false,
        "editable": false,
        "nbgrader": {
          "checksum": "07943fedbdb921dc357cff10fae86324",
          "grade": true,
          "grade_id": "cell-67541a5e3db40e85",
          "locked": true,
          "points": 10,
          "schema_version": 1,
          "solution": false
        },
        "id": "tlBotrjWRs3v",
        "colab_type": "code",
        "colab": {}
      },
      "source": [
        "### Efficiency of efibo (10 points)\n",
        "\n",
        "assert efibo(40) == 102334155\n",
        "\n"
      ],
      "execution_count": 0,
      "outputs": []
    },
    {
      "cell_type": "markdown",
      "metadata": {
        "deletable": false,
        "editable": false,
        "nbgrader": {
          "checksum": "515abc96bdb69916c1e38149048810b3",
          "grade": false,
          "grade_id": "cell-9b7a0eccf3592fd3",
          "locked": true,
          "schema_version": 1,
          "solution": false
        },
        "id": "HM6OhiMARs3y",
        "colab_type": "text"
      },
      "source": [
        "## Question: Decorators"
      ]
    },
    {
      "cell_type": "markdown",
      "metadata": {
        "deletable": false,
        "editable": false,
        "nbgrader": {
          "checksum": "14c7f5666ac4df7068492907619c8f03",
          "grade": false,
          "grade_id": "cell-95a98b01a09dc0c5",
          "locked": true,
          "schema_version": 1,
          "solution": false
        },
        "id": "-TF5RGhNRs3z",
        "colab_type": "text"
      },
      "source": [
        "Write a decorator `positivize1` that, when decorating a function `f` of one argument, makes sure that the argument fed to `f` is nonnegative by taking its absolute value.   For instance, if we do:\n",
        "\n",
        "    @positivize1\n",
        "    def f(x):\n",
        "        return x + 1\n",
        "\n",
        "then `f(-1)` should return `2`, because we take the absolute value of `-1` before passing it to `f`."
      ]
    },
    {
      "cell_type": "code",
      "metadata": {
        "deletable": false,
        "nbgrader": {
          "checksum": "f6e38ef377010a10436dd7ac01a74902",
          "grade": false,
          "grade_id": "cell-e6e57a42471817ee",
          "locked": false,
          "schema_version": 1,
          "solution": true
        },
        "id": "Jjtb1ZVrRs30",
        "colab_type": "code",
        "colab": {}
      },
      "source": [
        "### positivize1\n",
        "\n",
        "def positivize1(func):\n",
        "    # 3 lines\n",
        "    # YOUR CODE HERE\n",
        "    def absolute(*args,**kwargs):\n",
        "      args=[abs(x) for x in args]\n",
        "      return func(*args)\n",
        "    return absolute"
      ],
      "execution_count": 0,
      "outputs": []
    },
    {
      "cell_type": "code",
      "metadata": {
        "deletable": false,
        "editable": false,
        "nbgrader": {
          "checksum": "99d95f26332081f14deaf5e614b034da",
          "grade": true,
          "grade_id": "cell-77a44d5454e03875",
          "locked": true,
          "points": 10,
          "schema_version": 1,
          "solution": false
        },
        "id": "-3ucX85-Rs34",
        "colab_type": "code",
        "colab": {}
      },
      "source": [
        "### Tests for `positivize1` (10 points)\n",
        "\n",
        "@positivize1\n",
        "def f(x):\n",
        "    return x + 1\n",
        "assert f(1) == f(-1)\n",
        "assert f(-2) == 3\n",
        "\n"
      ],
      "execution_count": 0,
      "outputs": []
    },
    {
      "cell_type": "markdown",
      "metadata": {
        "deletable": false,
        "editable": false,
        "nbgrader": {
          "checksum": "d74992bba0b1c0c8d5a463e2e1ca9a81",
          "grade": false,
          "grade_id": "cell-d27bf7aa7e4f3dec",
          "locked": true,
          "schema_version": 1,
          "solution": false
        },
        "id": "3tDlfL62Rs37",
        "colab_type": "text"
      },
      "source": [
        "Now write a `@positivize` decorator, that works for functions of any number of arguments, including keyword arguments.  We assume that the value of all the arguments must be numbers, of course. "
      ]
    },
    {
      "cell_type": "code",
      "metadata": {
        "deletable": false,
        "nbgrader": {
          "checksum": "a4c7d9b623167523f1581d3167cce8fc",
          "grade": false,
          "grade_id": "cell-8ec44f9953271ba8",
          "locked": false,
          "schema_version": 1,
          "solution": true
        },
        "id": "jDz07IPtRs38",
        "colab_type": "code",
        "colab": {}
      },
      "source": [
        "### positivize\n",
        "\n",
        "def positivize(func):\n",
        "    # 5 lines (can be squeezed to 3 lines)\n",
        "    # YOUR CODE HERE\n",
        "    def absolute(*args,**kwargs):\n",
        "      args=[abs(x) for x in args]\n",
        "      for key, value in kwargs.items():\n",
        "        kwargs[key]=abs(value)\n",
        "      return func(*args,**kwargs)\n",
        "    return absolute"
      ],
      "execution_count": 0,
      "outputs": []
    },
    {
      "cell_type": "code",
      "metadata": {
        "deletable": false,
        "editable": false,
        "nbgrader": {
          "checksum": "612294c15e3a4959e58b341b0e657ce5",
          "grade": true,
          "grade_id": "cell-23e6a8b40a81b5c",
          "locked": true,
          "points": 10,
          "schema_version": 1,
          "solution": false
        },
        "id": "kQoRAnKLRs4A",
        "colab_type": "code",
        "colab": {}
      },
      "source": [
        "### Tests for `positivize` (10 points)\n",
        "\n",
        "@positivize\n",
        "def add(x, y, inc=0):\n",
        "    return x + y + inc\n",
        "\n",
        "assert add(1, 2, inc=1) == 4\n",
        "assert add(2, 2, inc=-1) == 5\n",
        "\n",
        "@positivize\n",
        "def quack(x, y, z, inc=0, diff=1):\n",
        "    return x + y * z + (inc - diff) * 2\n",
        "\n",
        "assert quack(1, 2, 3) == 5\n",
        "\n"
      ],
      "execution_count": 0,
      "outputs": []
    },
    {
      "cell_type": "markdown",
      "metadata": {
        "deletable": false,
        "editable": false,
        "nbgrader": {
          "checksum": "cb45ef9466c9bfeb961890493cad5ac7",
          "grade": false,
          "grade_id": "cell-fa958677ced2e6d1",
          "locked": true,
          "schema_version": 1,
          "solution": false
        },
        "id": "FvhLD87_Rs4D",
        "colab_type": "text"
      },
      "source": [
        "Finally, write a decorator with arguments so that if you apply:\n",
        "\n",
        "    @raiseargs(3)\n",
        "\n",
        "above a function that takes numeric positional or keyword arguments, all the arguments are raised to the specified power (in this case, 3) before being passed to the decorated function."
      ]
    },
    {
      "cell_type": "code",
      "metadata": {
        "deletable": false,
        "nbgrader": {
          "checksum": "f4279056208d8dce4c7181bb3a64dfc9",
          "grade": false,
          "grade_id": "cell-530eca684a999c86",
          "locked": false,
          "schema_version": 1,
          "solution": true
        },
        "id": "5P4lwhKLRs4E",
        "colab_type": "code",
        "colab": {}
      },
      "source": [
        "### raiseargs\n",
        "\n",
        "def raiseargs(n):\n",
        "    \"\"\"Decorator that raises to the n-th power all arguments\n",
        "    (positional, or keyword arguments) of a given function.\"\"\"\n",
        "    # 7 lines\n",
        "    # YOUR CODE HERE\n",
        "    def inner1(func):\n",
        "      def func_wrapper(*args,**kwargs):\n",
        "        args=[x**n for x in args]\n",
        "        for key, value in kwargs.items():\n",
        "          kwargs[key]=value**n\n",
        "        return func(*args,**kwargs)\n",
        "      return func_wrapper\n",
        "    return inner1\n"
      ],
      "execution_count": 0,
      "outputs": []
    },
    {
      "cell_type": "code",
      "metadata": {
        "deletable": false,
        "editable": false,
        "nbgrader": {
          "checksum": "7e5c5e42a569875d35482d3648058c2f",
          "grade": true,
          "grade_id": "cell-42749372a1ba940a",
          "locked": true,
          "points": 10,
          "schema_version": 1,
          "solution": false
        },
        "id": "eWS05RsyRs4G",
        "colab_type": "code",
        "colab": {}
      },
      "source": [
        "### Tests for raiseargs (10 points)\n",
        "\n",
        "@raiseargs(2)\n",
        "def f(x, y):\n",
        "    return x + y\n",
        "\n",
        "assert f(2, 3) == 13 # 4 + 9\n",
        "\n",
        "@raiseargs(3)\n",
        "def g(x, y=1):\n",
        "    return x + y + 1\n",
        "\n",
        "assert g(2, y=2) == 17 # 8 + 8 + 1\n",
        "\n"
      ],
      "execution_count": 0,
      "outputs": []
    },
    {
      "cell_type": "code",
      "metadata": {
        "id": "1uAltnMcCkhT",
        "colab_type": "code",
        "colab": {}
      },
      "source": [
        ""
      ],
      "execution_count": 0,
      "outputs": []
    }
  ]
}